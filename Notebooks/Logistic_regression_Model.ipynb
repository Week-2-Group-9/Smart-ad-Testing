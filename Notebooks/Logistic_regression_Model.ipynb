{
 "cells": [
  {
   "cell_type": "markdown",
   "id": "f1033e02",
   "metadata": {},
   "source": [
    "# Importing Libraries"
   ]
  },
  {
   "cell_type": "code",
   "execution_count": 2,
   "id": "52545aef",
   "metadata": {},
   "outputs": [],
   "source": [
    "import os\n",
    "import warnings\n",
    "import sys\n",
    "\n",
    "#import dvc.api\n",
    "import pandas as pd\n",
    "import numpy as np\n",
    "from sklearn.metrics import mean_squared_error, mean_absolute_error, r2_score\n",
    "from sklearn.model_selection import train_test_split\n",
    "from sklearn.linear_model import ElasticNet, LogisticRegression\n",
    "from sklearn.preprocessing import LabelEncoder\n",
    "from fast_ml.model_development import train_valid_test_split\n",
    "from sklearn.tree import DecisionTreeClassifier\n",
    "from urllib.parse import urlparse\n",
    "import mlflow\n",
    "import mlflow.sklearn\n",
    "import logging"
   ]
  },
  {
   "cell_type": "code",
   "execution_count": 3,
   "id": "33f8b8ef",
   "metadata": {},
   "outputs": [],
   "source": [
    "import warnings\n",
    "warnings.filterwarnings('ignore')"
   ]
  },
  {
   "cell_type": "markdown",
   "id": "2a843151",
   "metadata": {},
   "source": [
    "# Loading Data"
   ]
  },
  {
   "cell_type": "code",
   "execution_count": 4,
   "id": "db4c446c",
   "metadata": {},
   "outputs": [],
   "source": [
    "df = pd.read_csv('../data/AdSmartABdata.csv')"
   ]
  },
  {
   "cell_type": "markdown",
   "id": "fec111c3",
   "metadata": {},
   "source": [
    "# Exploaring The Categorical Columns"
   ]
  },
  {
   "cell_type": "code",
   "execution_count": 6,
   "id": "2eb1003f",
   "metadata": {},
   "outputs": [],
   "source": [
    "relevant_rows = df.query('yes == 1 | no == 1')\n",
    "# relevant_rows"
   ]
  },
  {
   "cell_type": "code",
   "execution_count": 7,
   "id": "1d386211",
   "metadata": {},
   "outputs": [
    {
     "data": {
      "text/plain": [
       "[6, 5]"
      ]
     },
     "execution_count": 7,
     "metadata": {},
     "output_type": "execute_result"
    }
   ],
   "source": [
    "top2_platform = relevant_rows['platform_os'].value_counts().index.to_list()[:2]\n",
    "top2_platform"
   ]
  },
  {
   "cell_type": "code",
   "execution_count": 8,
   "id": "488b97db",
   "metadata": {},
   "outputs": [],
   "source": [
    "platform_list = []\n",
    "for platform in top2_platform:\n",
    "    platforms = relevant_rows.loc[relevant_rows['platform_os'] == platform]\n",
    "    platform_list.append(platforms)\n",
    "platform_six = platform_list[0]\n",
    "platform_five = platform_list[1]\n"
   ]
  },
  {
   "cell_type": "code",
   "execution_count": 9,
   "id": "1523e71e",
   "metadata": {},
   "outputs": [],
   "source": [
    "platform_six.to_csv('../data/platform_six.csv')\n",
    "platform_five.to_csv('../data/platform_five.csv')"
   ]
  },
  {
   "cell_type": "code",
   "execution_count": 10,
   "id": "613f4b41",
   "metadata": {},
   "outputs": [
    {
     "data": {
      "text/plain": [
       "['Chrome Mobile', 'Chrome Mobile WebView']"
      ]
     },
     "execution_count": 10,
     "metadata": {},
     "output_type": "execute_result"
    }
   ],
   "source": [
    "top2_browser = relevant_rows['browser'].value_counts().index.to_list()[:2]\n",
    "top2_browser"
   ]
  },
  {
   "cell_type": "code",
   "execution_count": 11,
   "id": "67eb4800",
   "metadata": {},
   "outputs": [],
   "source": [
    "browser_list = []\n",
    "for browser in top2_browser:\n",
    "    browsers = relevant_rows.loc[relevant_rows['browser'] == browser]\n",
    "    browser_list.append(browsers)\n",
    "chrome_mobile_data = browser_list[0]\n",
    "chrome_mobile_webview_data = browser_list[1]"
   ]
  },
  {
   "cell_type": "code",
   "execution_count": null,
   "id": "3cddd486",
   "metadata": {},
   "outputs": [],
   "source": []
  }
 ],
 "metadata": {
  "kernelspec": {
   "display_name": "Python 3 (ipykernel)",
   "language": "python",
   "name": "python3"
  },
  "language_info": {
   "codemirror_mode": {
    "name": "ipython",
    "version": 3
   },
   "file_extension": ".py",
   "mimetype": "text/x-python",
   "name": "python",
   "nbconvert_exporter": "python",
   "pygments_lexer": "ipython3",
   "version": "3.8.13"
  }
 },
 "nbformat": 4,
 "nbformat_minor": 5
}

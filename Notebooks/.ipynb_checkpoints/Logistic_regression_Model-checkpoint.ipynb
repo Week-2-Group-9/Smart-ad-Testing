{
 "cells": [
  {
   "cell_type": "markdown",
   "id": "7701d342",
   "metadata": {},
   "source": [
    "# Importing Libraries"
   ]
  },
  {
   "cell_type": "code",
   "execution_count": 2,
   "id": "08b13a22",
   "metadata": {},
   "outputs": [
    {
     "ename": "ModuleNotFoundError",
     "evalue": "No module named 'fast_ml'",
     "output_type": "error",
     "traceback": [
      "\u001b[1;31m---------------------------------------------------------------------------\u001b[0m",
      "\u001b[1;31mModuleNotFoundError\u001b[0m                       Traceback (most recent call last)",
      "\u001b[1;32m~\\AppData\\Local\\Temp/ipykernel_14152/1465684658.py\u001b[0m in \u001b[0;36m<module>\u001b[1;34m\u001b[0m\n\u001b[0;32m     10\u001b[0m \u001b[1;32mfrom\u001b[0m \u001b[0msklearn\u001b[0m\u001b[1;33m.\u001b[0m\u001b[0mlinear_model\u001b[0m \u001b[1;32mimport\u001b[0m \u001b[0mElasticNet\u001b[0m\u001b[1;33m,\u001b[0m \u001b[0mLogisticRegression\u001b[0m\u001b[1;33m\u001b[0m\u001b[1;33m\u001b[0m\u001b[0m\n\u001b[0;32m     11\u001b[0m \u001b[1;32mfrom\u001b[0m \u001b[0msklearn\u001b[0m\u001b[1;33m.\u001b[0m\u001b[0mpreprocessing\u001b[0m \u001b[1;32mimport\u001b[0m \u001b[0mLabelEncoder\u001b[0m\u001b[1;33m\u001b[0m\u001b[1;33m\u001b[0m\u001b[0m\n\u001b[1;32m---> 12\u001b[1;33m \u001b[1;32mfrom\u001b[0m \u001b[0mfast_ml\u001b[0m\u001b[1;33m.\u001b[0m\u001b[0mmodel_development\u001b[0m \u001b[1;32mimport\u001b[0m \u001b[0mtrain_valid_test_split\u001b[0m\u001b[1;33m\u001b[0m\u001b[1;33m\u001b[0m\u001b[0m\n\u001b[0m\u001b[0;32m     13\u001b[0m \u001b[1;32mfrom\u001b[0m \u001b[0msklearn\u001b[0m\u001b[1;33m.\u001b[0m\u001b[0mtree\u001b[0m \u001b[1;32mimport\u001b[0m \u001b[0mDecisionTreeClassifier\u001b[0m\u001b[1;33m\u001b[0m\u001b[1;33m\u001b[0m\u001b[0m\n\u001b[0;32m     14\u001b[0m \u001b[1;32mfrom\u001b[0m \u001b[0murllib\u001b[0m\u001b[1;33m.\u001b[0m\u001b[0mparse\u001b[0m \u001b[1;32mimport\u001b[0m \u001b[0murlparse\u001b[0m\u001b[1;33m\u001b[0m\u001b[1;33m\u001b[0m\u001b[0m\n",
      "\u001b[1;31mModuleNotFoundError\u001b[0m: No module named 'fast_ml'"
     ]
    }
   ],
   "source": [
    "import os\n",
    "import warnings\n",
    "import sys\n",
    "\n",
    "#import dvc.api\n",
    "import pandas as pd\n",
    "import numpy as np\n",
    "from sklearn.metrics import mean_squared_error, mean_absolute_error, r2_score\n",
    "from sklearn.model_selection import train_test_split\n",
    "from sklearn.linear_model import ElasticNet, LogisticRegression\n",
    "from sklearn.preprocessing import LabelEncoder\n",
    "from fast_ml.model_development import train_valid_test_split\n",
    "from sklearn.tree import DecisionTreeClassifier\n",
    "from urllib.parse import urlparse\n",
    "import mlflow\n",
    "import mlflow.sklearn\n",
    "import logging"
   ]
  },
  {
   "cell_type": "code",
   "execution_count": null,
   "id": "fc4369ac",
   "metadata": {},
   "outputs": [],
   "source": [
    "import warnings\n",
    "warnings.filterwarnings('ignore')"
   ]
  },
  {
   "cell_type": "markdown",
   "id": "8d4b3a5c",
   "metadata": {},
   "source": [
    "# Loading Data"
   ]
  },
  {
   "cell_type": "code",
   "execution_count": null,
   "id": "2c737764",
   "metadata": {},
   "outputs": [],
   "source": [
    "df = pd.read_csv('../data/AdSmartABdata.csv')"
   ]
  },
  {
   "cell_type": "markdown",
   "id": "c225ace4",
   "metadata": {},
   "source": [
    "# Exploaring The Categorical Columns"
   ]
  },
  {
   "cell_type": "code",
   "execution_count": null,
   "id": "6c9aebcf",
   "metadata": {},
   "outputs": [],
   "source": [
    "relevant_rows = df.query('yes == 1 | no == 0')\n",
    "# relevant_rows"
   ]
  },
  {
   "cell_type": "code",
   "execution_count": null,
   "id": "9b054393",
   "metadata": {},
   "outputs": [],
   "source": [
    "top2_platform = relevant_rows['platform_os'].value_counts().index.to_list()[:2]\n",
    "top2_platform"
   ]
  },
  {
   "cell_type": "code",
   "execution_count": null,
   "id": "a51a3efd",
   "metadata": {},
   "outputs": [],
   "source": [
    "platform_list = []\n",
    "for platform in top2_platform:\n",
    "    platforms = relevant_rows.loc[relevant_rows['platform_os'] == platform]\n",
    "    platform_list.append(platforms)\n",
    "platform_six = platform_list[0]\n",
    "platform_five = platform_list[1]\n"
   ]
  },
  {
   "cell_type": "code",
   "execution_count": null,
   "id": "89b7d14c",
   "metadata": {},
   "outputs": [],
   "source": [
    "platform_six.to_csv('../data/platform_six.csv')\n",
    "platform_five.to_csv('../data/platform_five.csv')"
   ]
  },
  {
   "cell_type": "code",
   "execution_count": null,
   "id": "ba43d180",
   "metadata": {},
   "outputs": [],
   "source": [
    "top2_browser = relevant_rows['browser'].value_counts().index.to_list()[:2]\n",
    "top2_browser"
   ]
  },
  {
   "cell_type": "code",
   "execution_count": null,
   "id": "8f8890d4",
   "metadata": {},
   "outputs": [],
   "source": [
    "browser_list = []\n",
    "for browser in top2_browser:\n",
    "    browsers = relevant_rows.loc[relevant_rows['browser'] == browser]\n",
    "    browser_list.append(browsers)\n",
    "chrome_mobile_data = browser_list[0]\n",
    "chrome_mobile_webview_data = browser_list[1]"
   ]
  },
  {
   "cell_type": "code",
   "execution_count": null,
   "id": "e4c5f9ee",
   "metadata": {},
   "outputs": [],
   "source": [
    "chrome_mobile_data.to_csv('../data/chrome_mobile_data.csv')\n",
    "chrome_mobile_webview_data.to_csv('../data/chrome_mobile_webview_data.csv')\n"
   ]
  },
  {
   "cell_type": "code",
   "execution_count": null,
   "id": "56a039fd",
   "metadata": {},
   "outputs": [],
   "source": [
    "df2 = relevant_rows.drop('no', axis=1)"
   ]
  },
  {
   "cell_type": "code",
   "execution_count": null,
   "id": "1138b83f",
   "metadata": {},
   "outputs": [],
   "source": [
    "df2.rename(columns = {'yes': 'clicked_or_not'}, inplace=True)"
   ]
  },
  {
   "cell_type": "code",
   "execution_count": null,
   "id": "8f1efda8",
   "metadata": {},
   "outputs": [],
   "source": [
    "df2"
   ]
  },
  {
   "cell_type": "markdown",
   "id": "fa35f1b4",
   "metadata": {},
   "source": [
    "# Splitting Numerical and categorical variables"
   ]
  },
  {
   "cell_type": "code",
   "execution_count": null,
   "id": "3f96eb30",
   "metadata": {},
   "outputs": [],
   "source": [
    "numerical_column = df2.select_dtypes(exclude=\"object\").columns.tolist()\n",
    "categorical_column = df2.select_dtypes(include=\"object\").columns.tolist()\n",
    "print(\"Numerical Columns:\", numerical_column)\n",
    "print(\"****************\")\n",
    "print(\"Categorical Columns:\", categorical_column)"
   ]
  },
  {
   "cell_type": "markdown",
   "id": "dece9378",
   "metadata": {},
   "source": [
    "# Splitting the columns for one hot encoding and label encoding"
   ]
  },
  {
   "cell_type": "code",
   "execution_count": null,
   "id": "4fb1f7d9",
   "metadata": {},
   "outputs": [],
   "source": [
    "to_one_hot_encoding = [col for col in categorical_column if df2[col].nunique() <= 10 and df2[col].nunique() > 2]\n",
    "\n",
    "# Get Categorical Column names thoose are not in \"to_one_hot_encoding\"\n",
    "to_label_encoding = [col for col in categorical_column if not col in to_one_hot_encoding]\n",
    "\n",
    "print(\"To One Hot Encoding:\", to_one_hot_encoding)\n",
    "print(\"To Label Encoding:\", to_label_encoding)\n"
   ]
  },
  {
   "cell_type": "code",
   "execution_count": null,
   "id": "a55875c7",
   "metadata": {},
   "outputs": [],
   "source": [
    "# We will use built in pandas function \"get_dummies()\" to simply to encode \"to_one_hot_encoding\" columns\n",
    "one_hot_encoded_columns = pd.get_dummies(df2[to_one_hot_encoding])\n",
    "# one_hot_encoded_columns"
   ]
  },
  {
   "cell_type": "code",
   "execution_count": null,
   "id": "1a66bc61",
   "metadata": {},
   "outputs": [],
   "source": [
    "le = LabelEncoder()\n",
    "df2[to_label_encoding] = df2[to_label_encoding].apply(le.fit_transform)\n",
    "# df2"
   ]
  },
  {
   "cell_type": "code",
   "execution_count": null,
   "id": "bea82a6a",
   "metadata": {},
   "outputs": [],
   "source": [
    "# Label Encoding\n",
    "\n",
    "label_encoded_columns = []\n",
    "# For loop for each columns\n",
    "for col in to_label_encoding:\n",
    "    # We define new label encoder to each new column\n",
    "    le = LabelEncoder()\n",
    "    # Encode our data and create new Dataframe of it, \n",
    "    # notice that we gave column name in \"columns\" arguments\n",
    "    column_dataframe = pd.DataFrame(le.fit_transform(df2[col]), columns=[col] )\n",
    "    # and add new DataFrame to \"label_encoded_columns\" list\n",
    "    label_encoded_columns.append(column_dataframe)\n",
    "\n",
    "# Merge all data frames\n",
    "label_encoded_columns = pd.concat(label_encoded_columns, axis=1)\n",
    "# label_encoded_columns"
   ]
  },
  {
   "cell_type": "code",
   "execution_count": null,
   "id": "c2bb9a44",
   "metadata": {},
   "outputs": [],
   "source": [
    "# Copy our DataFrame to X variable\n",
    "X = df2.copy()\n",
    "X.drop(['date', 'browser'], axis=1, inplace=True)\n",
    "# Merge DataFrames\n",
    "X = pd.concat([X, one_hot_encoded_columns], axis=1)\n",
    "print(\"All columns:\", X.columns.tolist())\n",
    "# X"
   ]
  },
  {
   "cell_type": "code",
   "execution_count": null,
   "id": "d6eda9e2",
   "metadata": {},
   "outputs": [],
   "source": [
    "# Define Y (This is the value we will predict)\n",
    "y = X[\"yes\"]\n",
    "\n",
    "# Droping \"class\" from X\n",
    "X.drop([\"yes\"], axis=1, inplace=True)\n",
    "# X"
   ]
  },
  {
   "cell_type": "code",
   "execution_count": null,
   "id": "a21c93ee",
   "metadata": {},
   "outputs": [],
   "source": [
    "X_train, X_test, y_train, y_test = train_test_split(X, y, test_size = 0.3)\n",
    "X_train, X_val, y_train, y_val = train_test_split(X_train, y_train, test_size = 0.23)"
   ]
  },
  {
   "cell_type": "markdown",
   "id": "677682f5",
   "metadata": {},
   "source": [
    "# Logistic Regression"
   ]
  },
  {
   "cell_type": "code",
   "execution_count": null,
   "id": "24818de1",
   "metadata": {},
   "outputs": [],
   "source": [
    "# Define Logistic Regression Model\n",
    "log = LogisticRegression()\n",
    "# We fit our model with our train data\n",
    "log.fit(X_train, y_train)\n",
    "# Then predict results from X_test data\n",
    "pred_log = log.predict(X_test)\n",
    "\n",
    "# See First 10 Predictions and They Actual Values\n",
    "print(\"Predicted:\", pred_log[0:10])\n",
    "print(\"Actual:\", y_test[0:10])"
   ]
  },
  {
   "cell_type": "code",
   "execution_count": null,
   "id": "b8eb5721",
   "metadata": {},
   "outputs": [],
   "source": [
    "from matplotlib import pyplot\n",
    "# get importance\n",
    "importance = log.coef_[0]\n",
    "# summarize feature importance\n",
    "for i,v in enumerate(importance):\n",
    "\tprint('Feature: %0d, Score: %.5f' % (i,v))\n",
    "# plot feature importance\n",
    "pyplot.bar([x for x in range(len(importance))], importance)\n",
    "pyplot.show()"
   ]
  },
  {
   "cell_type": "markdown",
   "id": "17d0db4a",
   "metadata": {},
   "source": [
    "# Confusion Matrix"
   ]
  },
  {
   "cell_type": "code",
   "execution_count": null,
   "id": "f71458fe",
   "metadata": {},
   "outputs": [],
   "source": [
    "cm_log = confusion_matrix(y_test, pred_log)\n",
    "print(\"Logistic Regression:\\n\", cm_log)"
   ]
  },
  {
   "cell_type": "markdown",
   "id": "b915061f",
   "metadata": {},
   "source": [
    "# Accuracey Score"
   ]
  },
  {
   "cell_type": "code",
   "execution_count": null,
   "id": "5b0ae07f",
   "metadata": {},
   "outputs": [],
   "source": [
    "# Logistic Regression\n",
    "acc_log = accuracy_score(y_test, pred_log)\n",
    "print(\"Logistic Regression accuracy:\", acc_log)"
   ]
  },
  {
   "cell_type": "code",
   "execution_count": null,
   "id": "465ed776",
   "metadata": {},
   "outputs": [],
   "source": []
  }
 ],
 "metadata": {
  "kernelspec": {
   "display_name": "Python 3 (ipykernel)",
   "language": "python",
   "name": "python3"
  },
  "language_info": {
   "codemirror_mode": {
    "name": "ipython",
    "version": 3
   },
   "file_extension": ".py",
   "mimetype": "text/x-python",
   "name": "python",
   "nbconvert_exporter": "python",
   "pygments_lexer": "ipython3",
   "version": "3.9.7"
  }
 },
 "nbformat": 4,
 "nbformat_minor": 5
}

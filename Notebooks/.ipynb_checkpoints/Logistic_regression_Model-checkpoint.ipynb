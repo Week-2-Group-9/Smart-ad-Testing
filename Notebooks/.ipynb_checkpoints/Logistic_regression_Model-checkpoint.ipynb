{
 "cells": [
  {
   "cell_type": "markdown",
   "id": "eef1e008",
   "metadata": {},
   "source": [
    "# Importing Libraries"
   ]
  },
  {
   "cell_type": "code",
   "execution_count": 2,
   "id": "0899893a",
   "metadata": {},
   "outputs": [],
   "source": [
    "import os\n",
    "import warnings\n",
    "import sys\n",
    "\n",
    "#import dvc.api\n",
    "import pandas as pd\n",
    "import numpy as np\n",
    "from sklearn.metrics import mean_squared_error, mean_absolute_error, r2_score\n",
    "from sklearn.model_selection import train_test_split\n",
    "from sklearn.linear_model import ElasticNet, LogisticRegression\n",
    "from sklearn.preprocessing import LabelEncoder\n",
    "from fast_ml.model_development import train_valid_test_split\n",
    "from sklearn.tree import DecisionTreeClassifier\n",
    "from urllib.parse import urlparse\n",
    "import mlflow\n",
    "import mlflow.sklearn\n",
    "import logging"
   ]
  },
  {
   "cell_type": "code",
   "execution_count": 3,
   "id": "eff3e2c3",
   "metadata": {},
   "outputs": [],
   "source": [
    "import warnings\n",
    "warnings.filterwarnings('ignore')"
   ]
  },
  {
   "cell_type": "markdown",
   "id": "b0a46508",
   "metadata": {},
   "source": [
    "# Loading Data"
   ]
  },
  {
   "cell_type": "code",
   "execution_count": 4,
   "id": "2546cce2",
   "metadata": {},
   "outputs": [],
   "source": [
    "df = pd.read_csv('../data/AdSmartABdata.csv')"
   ]
  },
  {
   "cell_type": "markdown",
   "id": "3792aa16",
   "metadata": {},
   "source": [
    "# Exploaring The Categorical Columns"
   ]
  },
  {
   "cell_type": "code",
   "execution_count": 6,
   "id": "7dd0ad7f",
   "metadata": {},
   "outputs": [],
   "source": [
    "relevant_rows = df.query('yes == 1 | no == 1')\n",
    "# relevant_rows"
   ]
  },
  {
   "cell_type": "code",
   "execution_count": 7,
   "id": "6b5997a5",
   "metadata": {},
   "outputs": [
    {
     "data": {
      "text/plain": [
       "[6, 5]"
      ]
     },
     "execution_count": 7,
     "metadata": {},
     "output_type": "execute_result"
    }
   ],
   "source": [
    "top2_platform = relevant_rows['platform_os'].value_counts().index.to_list()[:2]\n",
    "top2_platform"
   ]
  },
  {
   "cell_type": "code",
   "execution_count": 8,
   "id": "e5be3a5f",
   "metadata": {},
   "outputs": [],
   "source": [
    "platform_list = []\n",
    "for platform in top2_platform:\n",
    "    platforms = relevant_rows.loc[relevant_rows['platform_os'] == platform]\n",
    "    platform_list.append(platforms)\n",
    "platform_six = platform_list[0]\n",
    "platform_five = platform_list[1]\n"
   ]
  },
  {
   "cell_type": "code",
   "execution_count": 9,
   "id": "855267fc",
   "metadata": {},
   "outputs": [],
   "source": [
    "platform_six.to_csv('../data/platform_six.csv')\n",
    "platform_five.to_csv('../data/platform_five.csv')"
   ]
  },
  {
   "cell_type": "code",
   "execution_count": 10,
   "id": "dfe6ce3a",
   "metadata": {},
   "outputs": [
    {
     "data": {
      "text/plain": [
       "['Chrome Mobile', 'Chrome Mobile WebView']"
      ]
     },
     "execution_count": 10,
     "metadata": {},
     "output_type": "execute_result"
    }
   ],
   "source": [
    "top2_browser = relevant_rows['browser'].value_counts().index.to_list()[:2]\n",
    "top2_browser"
   ]
  },
  {
   "cell_type": "code",
   "execution_count": 11,
   "id": "d1906fb3",
   "metadata": {},
   "outputs": [],
   "source": [
    "browser_list = []\n",
    "for browser in top2_browser:\n",
    "    browsers = relevant_rows.loc[relevant_rows['browser'] == browser]\n",
    "    browser_list.append(browsers)\n",
    "chrome_mobile_data = browser_list[0]\n",
    "chrome_mobile_webview_data = browser_list[1]"
   ]
  },
  {
   "cell_type": "code",
   "execution_count": 12,
   "id": "1cc3d162",
   "metadata": {},
   "outputs": [],
   "source": [
    "chrome_mobile_data.to_csv('../data/chrome_mobile_data.csv')\n",
    "chrome_mobile_webview_data.to_csv('../data/chrome_mobile_webview_data.csv')\n"
   ]
  },
  {
   "cell_type": "code",
   "execution_count": 18,
   "id": "b5527279",
   "metadata": {},
   "outputs": [],
   "source": [
    "df2 = relevant_rows.drop('no', axis=1)"
   ]
  },
  {
   "cell_type": "code",
   "execution_count": 19,
   "id": "fe6b1aa7",
   "metadata": {},
   "outputs": [
    {
     "data": {
      "text/html": [
       "<div>\n",
       "<style scoped>\n",
       "    .dataframe tbody tr th:only-of-type {\n",
       "        vertical-align: middle;\n",
       "    }\n",
       "\n",
       "    .dataframe tbody tr th {\n",
       "        vertical-align: top;\n",
       "    }\n",
       "\n",
       "    .dataframe thead th {\n",
       "        text-align: right;\n",
       "    }\n",
       "</style>\n",
       "<table border=\"1\" class=\"dataframe\">\n",
       "  <thead>\n",
       "    <tr style=\"text-align: right;\">\n",
       "      <th></th>\n",
       "      <th>auction_id</th>\n",
       "      <th>experiment</th>\n",
       "      <th>date</th>\n",
       "      <th>hour</th>\n",
       "      <th>device_make</th>\n",
       "      <th>platform_os</th>\n",
       "      <th>browser</th>\n",
       "      <th>yes</th>\n",
       "    </tr>\n",
       "  </thead>\n",
       "  <tbody>\n",
       "    <tr>\n",
       "      <th>2</th>\n",
       "      <td>0016d14a-ae18-4a02-a204-6ba53b52f2ed</td>\n",
       "      <td>exposed</td>\n",
       "      <td>2020-07-05</td>\n",
       "      <td>2</td>\n",
       "      <td>E5823</td>\n",
       "      <td>6</td>\n",
       "      <td>Chrome Mobile WebView</td>\n",
       "      <td>0</td>\n",
       "    </tr>\n",
       "    <tr>\n",
       "      <th>16</th>\n",
       "      <td>008aafdf-deef-4482-8fec-d98e3da054da</td>\n",
       "      <td>exposed</td>\n",
       "      <td>2020-07-04</td>\n",
       "      <td>16</td>\n",
       "      <td>Generic Smartphone</td>\n",
       "      <td>6</td>\n",
       "      <td>Chrome Mobile</td>\n",
       "      <td>1</td>\n",
       "    </tr>\n",
       "    <tr>\n",
       "      <th>20</th>\n",
       "      <td>00a1384a-5118-4d1b-925b-6cdada50318d</td>\n",
       "      <td>exposed</td>\n",
       "      <td>2020-07-06</td>\n",
       "      <td>8</td>\n",
       "      <td>Generic Smartphone</td>\n",
       "      <td>6</td>\n",
       "      <td>Chrome Mobile</td>\n",
       "      <td>0</td>\n",
       "    </tr>\n",
       "    <tr>\n",
       "      <th>23</th>\n",
       "      <td>00b6fadb-10bd-49e3-a778-290da82f7a8d</td>\n",
       "      <td>control</td>\n",
       "      <td>2020-07-08</td>\n",
       "      <td>4</td>\n",
       "      <td>Samsung SM-A202F</td>\n",
       "      <td>6</td>\n",
       "      <td>Facebook</td>\n",
       "      <td>1</td>\n",
       "    </tr>\n",
       "    <tr>\n",
       "      <th>27</th>\n",
       "      <td>00ebf4a8-060f-4b99-93ac-c62724399483</td>\n",
       "      <td>control</td>\n",
       "      <td>2020-07-03</td>\n",
       "      <td>15</td>\n",
       "      <td>Generic Smartphone</td>\n",
       "      <td>6</td>\n",
       "      <td>Chrome Mobile</td>\n",
       "      <td>0</td>\n",
       "    </tr>\n",
       "    <tr>\n",
       "      <th>...</th>\n",
       "      <td>...</td>\n",
       "      <td>...</td>\n",
       "      <td>...</td>\n",
       "      <td>...</td>\n",
       "      <td>...</td>\n",
       "      <td>...</td>\n",
       "      <td>...</td>\n",
       "      <td>...</td>\n",
       "    </tr>\n",
       "    <tr>\n",
       "      <th>8059</th>\n",
       "      <td>ffa08ff9-a132-4051-aef5-01a9c79367bc</td>\n",
       "      <td>exposed</td>\n",
       "      <td>2020-07-05</td>\n",
       "      <td>21</td>\n",
       "      <td>Generic Smartphone</td>\n",
       "      <td>6</td>\n",
       "      <td>Chrome Mobile</td>\n",
       "      <td>1</td>\n",
       "    </tr>\n",
       "    <tr>\n",
       "      <th>8063</th>\n",
       "      <td>ffb176df-ecd2-45d3-b05f-05b173a093a7</td>\n",
       "      <td>exposed</td>\n",
       "      <td>2020-07-04</td>\n",
       "      <td>1</td>\n",
       "      <td>Generic Smartphone</td>\n",
       "      <td>6</td>\n",
       "      <td>Chrome Mobile</td>\n",
       "      <td>1</td>\n",
       "    </tr>\n",
       "    <tr>\n",
       "      <th>8064</th>\n",
       "      <td>ffb79718-6f25-4896-b6b3-e58b80a6e147</td>\n",
       "      <td>control</td>\n",
       "      <td>2020-07-09</td>\n",
       "      <td>7</td>\n",
       "      <td>Generic Smartphone</td>\n",
       "      <td>6</td>\n",
       "      <td>Chrome Mobile</td>\n",
       "      <td>0</td>\n",
       "    </tr>\n",
       "    <tr>\n",
       "      <th>8069</th>\n",
       "      <td>ffca1153-c182-4f32-9e90-2a6008417497</td>\n",
       "      <td>control</td>\n",
       "      <td>2020-07-10</td>\n",
       "      <td>16</td>\n",
       "      <td>Generic Smartphone</td>\n",
       "      <td>6</td>\n",
       "      <td>Chrome Mobile</td>\n",
       "      <td>0</td>\n",
       "    </tr>\n",
       "    <tr>\n",
       "      <th>8071</th>\n",
       "      <td>ffdfdc09-48c7-4bfb-80f8-ec1eb633602b</td>\n",
       "      <td>exposed</td>\n",
       "      <td>2020-07-03</td>\n",
       "      <td>4</td>\n",
       "      <td>Generic Smartphone</td>\n",
       "      <td>6</td>\n",
       "      <td>Chrome Mobile</td>\n",
       "      <td>0</td>\n",
       "    </tr>\n",
       "  </tbody>\n",
       "</table>\n",
       "<p>1243 rows × 8 columns</p>\n",
       "</div>"
      ],
      "text/plain": [
       "                                auction_id experiment        date  hour  \\\n",
       "2     0016d14a-ae18-4a02-a204-6ba53b52f2ed    exposed  2020-07-05     2   \n",
       "16    008aafdf-deef-4482-8fec-d98e3da054da    exposed  2020-07-04    16   \n",
       "20    00a1384a-5118-4d1b-925b-6cdada50318d    exposed  2020-07-06     8   \n",
       "23    00b6fadb-10bd-49e3-a778-290da82f7a8d    control  2020-07-08     4   \n",
       "27    00ebf4a8-060f-4b99-93ac-c62724399483    control  2020-07-03    15   \n",
       "...                                    ...        ...         ...   ...   \n",
       "8059  ffa08ff9-a132-4051-aef5-01a9c79367bc    exposed  2020-07-05    21   \n",
       "8063  ffb176df-ecd2-45d3-b05f-05b173a093a7    exposed  2020-07-04     1   \n",
       "8064  ffb79718-6f25-4896-b6b3-e58b80a6e147    control  2020-07-09     7   \n",
       "8069  ffca1153-c182-4f32-9e90-2a6008417497    control  2020-07-10    16   \n",
       "8071  ffdfdc09-48c7-4bfb-80f8-ec1eb633602b    exposed  2020-07-03     4   \n",
       "\n",
       "             device_make  platform_os                browser  yes  \n",
       "2                  E5823            6  Chrome Mobile WebView    0  \n",
       "16    Generic Smartphone            6          Chrome Mobile    1  \n",
       "20    Generic Smartphone            6          Chrome Mobile    0  \n",
       "23      Samsung SM-A202F            6               Facebook    1  \n",
       "27    Generic Smartphone            6          Chrome Mobile    0  \n",
       "...                  ...          ...                    ...  ...  \n",
       "8059  Generic Smartphone            6          Chrome Mobile    1  \n",
       "8063  Generic Smartphone            6          Chrome Mobile    1  \n",
       "8064  Generic Smartphone            6          Chrome Mobile    0  \n",
       "8069  Generic Smartphone            6          Chrome Mobile    0  \n",
       "8071  Generic Smartphone            6          Chrome Mobile    0  \n",
       "\n",
       "[1243 rows x 8 columns]"
      ]
     },
     "execution_count": 19,
     "metadata": {},
     "output_type": "execute_result"
    }
   ],
   "source": [
    "df2"
   ]
  },
  {
   "cell_type": "code",
   "execution_count": 20,
   "id": "8db6f7eb",
   "metadata": {},
   "outputs": [],
   "source": [
    "df2.rename(columns = {'yes': 'clicked_or_not'}, inplace=True)"
   ]
  },
  {
   "cell_type": "code",
   "execution_count": 21,
   "id": "0dbd4c43",
   "metadata": {},
   "outputs": [
    {
     "data": {
      "text/html": [
       "<div>\n",
       "<style scoped>\n",
       "    .dataframe tbody tr th:only-of-type {\n",
       "        vertical-align: middle;\n",
       "    }\n",
       "\n",
       "    .dataframe tbody tr th {\n",
       "        vertical-align: top;\n",
       "    }\n",
       "\n",
       "    .dataframe thead th {\n",
       "        text-align: right;\n",
       "    }\n",
       "</style>\n",
       "<table border=\"1\" class=\"dataframe\">\n",
       "  <thead>\n",
       "    <tr style=\"text-align: right;\">\n",
       "      <th></th>\n",
       "      <th>auction_id</th>\n",
       "      <th>experiment</th>\n",
       "      <th>date</th>\n",
       "      <th>hour</th>\n",
       "      <th>device_make</th>\n",
       "      <th>platform_os</th>\n",
       "      <th>browser</th>\n",
       "      <th>clicked_or_not</th>\n",
       "    </tr>\n",
       "  </thead>\n",
       "  <tbody>\n",
       "    <tr>\n",
       "      <th>2</th>\n",
       "      <td>0016d14a-ae18-4a02-a204-6ba53b52f2ed</td>\n",
       "      <td>exposed</td>\n",
       "      <td>2020-07-05</td>\n",
       "      <td>2</td>\n",
       "      <td>E5823</td>\n",
       "      <td>6</td>\n",
       "      <td>Chrome Mobile WebView</td>\n",
       "      <td>0</td>\n",
       "    </tr>\n",
       "    <tr>\n",
       "      <th>16</th>\n",
       "      <td>008aafdf-deef-4482-8fec-d98e3da054da</td>\n",
       "      <td>exposed</td>\n",
       "      <td>2020-07-04</td>\n",
       "      <td>16</td>\n",
       "      <td>Generic Smartphone</td>\n",
       "      <td>6</td>\n",
       "      <td>Chrome Mobile</td>\n",
       "      <td>1</td>\n",
       "    </tr>\n",
       "    <tr>\n",
       "      <th>20</th>\n",
       "      <td>00a1384a-5118-4d1b-925b-6cdada50318d</td>\n",
       "      <td>exposed</td>\n",
       "      <td>2020-07-06</td>\n",
       "      <td>8</td>\n",
       "      <td>Generic Smartphone</td>\n",
       "      <td>6</td>\n",
       "      <td>Chrome Mobile</td>\n",
       "      <td>0</td>\n",
       "    </tr>\n",
       "    <tr>\n",
       "      <th>23</th>\n",
       "      <td>00b6fadb-10bd-49e3-a778-290da82f7a8d</td>\n",
       "      <td>control</td>\n",
       "      <td>2020-07-08</td>\n",
       "      <td>4</td>\n",
       "      <td>Samsung SM-A202F</td>\n",
       "      <td>6</td>\n",
       "      <td>Facebook</td>\n",
       "      <td>1</td>\n",
       "    </tr>\n",
       "    <tr>\n",
       "      <th>27</th>\n",
       "      <td>00ebf4a8-060f-4b99-93ac-c62724399483</td>\n",
       "      <td>control</td>\n",
       "      <td>2020-07-03</td>\n",
       "      <td>15</td>\n",
       "      <td>Generic Smartphone</td>\n",
       "      <td>6</td>\n",
       "      <td>Chrome Mobile</td>\n",
       "      <td>0</td>\n",
       "    </tr>\n",
       "    <tr>\n",
       "      <th>...</th>\n",
       "      <td>...</td>\n",
       "      <td>...</td>\n",
       "      <td>...</td>\n",
       "      <td>...</td>\n",
       "      <td>...</td>\n",
       "      <td>...</td>\n",
       "      <td>...</td>\n",
       "      <td>...</td>\n",
       "    </tr>\n",
       "    <tr>\n",
       "      <th>8059</th>\n",
       "      <td>ffa08ff9-a132-4051-aef5-01a9c79367bc</td>\n",
       "      <td>exposed</td>\n",
       "      <td>2020-07-05</td>\n",
       "      <td>21</td>\n",
       "      <td>Generic Smartphone</td>\n",
       "      <td>6</td>\n",
       "      <td>Chrome Mobile</td>\n",
       "      <td>1</td>\n",
       "    </tr>\n",
       "    <tr>\n",
       "      <th>8063</th>\n",
       "      <td>ffb176df-ecd2-45d3-b05f-05b173a093a7</td>\n",
       "      <td>exposed</td>\n",
       "      <td>2020-07-04</td>\n",
       "      <td>1</td>\n",
       "      <td>Generic Smartphone</td>\n",
       "      <td>6</td>\n",
       "      <td>Chrome Mobile</td>\n",
       "      <td>1</td>\n",
       "    </tr>\n",
       "    <tr>\n",
       "      <th>8064</th>\n",
       "      <td>ffb79718-6f25-4896-b6b3-e58b80a6e147</td>\n",
       "      <td>control</td>\n",
       "      <td>2020-07-09</td>\n",
       "      <td>7</td>\n",
       "      <td>Generic Smartphone</td>\n",
       "      <td>6</td>\n",
       "      <td>Chrome Mobile</td>\n",
       "      <td>0</td>\n",
       "    </tr>\n",
       "    <tr>\n",
       "      <th>8069</th>\n",
       "      <td>ffca1153-c182-4f32-9e90-2a6008417497</td>\n",
       "      <td>control</td>\n",
       "      <td>2020-07-10</td>\n",
       "      <td>16</td>\n",
       "      <td>Generic Smartphone</td>\n",
       "      <td>6</td>\n",
       "      <td>Chrome Mobile</td>\n",
       "      <td>0</td>\n",
       "    </tr>\n",
       "    <tr>\n",
       "      <th>8071</th>\n",
       "      <td>ffdfdc09-48c7-4bfb-80f8-ec1eb633602b</td>\n",
       "      <td>exposed</td>\n",
       "      <td>2020-07-03</td>\n",
       "      <td>4</td>\n",
       "      <td>Generic Smartphone</td>\n",
       "      <td>6</td>\n",
       "      <td>Chrome Mobile</td>\n",
       "      <td>0</td>\n",
       "    </tr>\n",
       "  </tbody>\n",
       "</table>\n",
       "<p>1243 rows × 8 columns</p>\n",
       "</div>"
      ],
      "text/plain": [
       "                                auction_id experiment        date  hour  \\\n",
       "2     0016d14a-ae18-4a02-a204-6ba53b52f2ed    exposed  2020-07-05     2   \n",
       "16    008aafdf-deef-4482-8fec-d98e3da054da    exposed  2020-07-04    16   \n",
       "20    00a1384a-5118-4d1b-925b-6cdada50318d    exposed  2020-07-06     8   \n",
       "23    00b6fadb-10bd-49e3-a778-290da82f7a8d    control  2020-07-08     4   \n",
       "27    00ebf4a8-060f-4b99-93ac-c62724399483    control  2020-07-03    15   \n",
       "...                                    ...        ...         ...   ...   \n",
       "8059  ffa08ff9-a132-4051-aef5-01a9c79367bc    exposed  2020-07-05    21   \n",
       "8063  ffb176df-ecd2-45d3-b05f-05b173a093a7    exposed  2020-07-04     1   \n",
       "8064  ffb79718-6f25-4896-b6b3-e58b80a6e147    control  2020-07-09     7   \n",
       "8069  ffca1153-c182-4f32-9e90-2a6008417497    control  2020-07-10    16   \n",
       "8071  ffdfdc09-48c7-4bfb-80f8-ec1eb633602b    exposed  2020-07-03     4   \n",
       "\n",
       "             device_make  platform_os                browser  clicked_or_not  \n",
       "2                  E5823            6  Chrome Mobile WebView               0  \n",
       "16    Generic Smartphone            6          Chrome Mobile               1  \n",
       "20    Generic Smartphone            6          Chrome Mobile               0  \n",
       "23      Samsung SM-A202F            6               Facebook               1  \n",
       "27    Generic Smartphone            6          Chrome Mobile               0  \n",
       "...                  ...          ...                    ...             ...  \n",
       "8059  Generic Smartphone            6          Chrome Mobile               1  \n",
       "8063  Generic Smartphone            6          Chrome Mobile               1  \n",
       "8064  Generic Smartphone            6          Chrome Mobile               0  \n",
       "8069  Generic Smartphone            6          Chrome Mobile               0  \n",
       "8071  Generic Smartphone            6          Chrome Mobile               0  \n",
       "\n",
       "[1243 rows x 8 columns]"
      ]
     },
     "execution_count": 21,
     "metadata": {},
     "output_type": "execute_result"
    }
   ],
   "source": [
    "df2"
   ]
  },
  {
   "cell_type": "markdown",
   "id": "ed88f24a",
   "metadata": {},
   "source": [
    "# Splitting Numerical and categorical variables"
   ]
  },
  {
   "cell_type": "code",
   "execution_count": 22,
   "id": "469e5cc5",
   "metadata": {},
   "outputs": [
    {
     "name": "stdout",
     "output_type": "stream",
     "text": [
      "Numerical Columns: ['hour', 'platform_os', 'clicked_or_not']\n",
      "****************\n",
      "Categorical Columns: ['auction_id', 'experiment', 'date', 'device_make', 'browser']\n"
     ]
    }
   ],
   "source": [
    "numerical_column = df2.select_dtypes(exclude=\"object\").columns.tolist()\n",
    "categorical_column = df2.select_dtypes(include=\"object\").columns.tolist()\n",
    "print(\"Numerical Columns:\", numerical_column)\n",
    "print(\"****************\")\n",
    "print(\"Categorical Columns:\", categorical_column)"
   ]
  },
  {
   "cell_type": "code",
   "execution_count": null,
   "id": "34c93554",
   "metadata": {},
   "outputs": [],
   "source": []
  }
 ],
 "metadata": {
  "kernelspec": {
   "display_name": "Python 3 (ipykernel)",
   "language": "python",
   "name": "python3"
  },
  "language_info": {
   "codemirror_mode": {
    "name": "ipython",
    "version": 3
   },
   "file_extension": ".py",
   "mimetype": "text/x-python",
   "name": "python",
   "nbconvert_exporter": "python",
   "pygments_lexer": "ipython3",
   "version": "3.8.13"
  }
 },
 "nbformat": 4,
 "nbformat_minor": 5
}
